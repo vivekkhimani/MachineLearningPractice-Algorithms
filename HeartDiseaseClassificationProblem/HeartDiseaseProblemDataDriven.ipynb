{
  "nbformat": 4,
  "nbformat_minor": 0,
  "metadata": {
    "colab": {
      "name": "HeartDiseaseProblemDataDriven",
      "version": "0.3.2",
      "provenance": [],
      "collapsed_sections": []
    },
    "kernelspec": {
      "name": "python3",
      "display_name": "Python 3"
    }
  },
  "cells": [
    {
      "cell_type": "code",
      "metadata": {
        "id": "zqYFoHNUDu4T",
        "colab_type": "code",
        "colab": {}
      },
      "source": [
        "!python3 -m io\n",
        "import pandas as pd\n",
        "import numpy as np\n",
        "import csv\n",
        "from google.colab import files\n",
        "from sklearn import linear_model\n",
        "from sklearn.tree import DecisionTreeClassifier\n",
        "from sklearn.ensemble import RandomForestClassifier\n",
        "from sklearn.metrics import accuracy_score,classification_report,log_loss,confusion_matrix,roc_curve,auc\n",
        "from sklearn.preprocessing import OneHotEncoder,MinMaxScaler\n",
        "from sklearn.linear_model import LogisticRegression\n",
        "from imblearn.over_sampling import SMOTE\n",
        "import matplotlib.pyplot as plt\n",
        "from matplotlib.legend_handler import HandlerLine2D\n",
        "import io"
      ],
      "execution_count": 0,
      "outputs": []
    },
    {
      "cell_type": "markdown",
      "metadata": {
        "id": "4k7E5VzyP0QB",
        "colab_type": "text"
      },
      "source": [
        "**Uploading CSV Files**\n",
        "\n",
        "The next cell asks the executor to upload csv files on the notebook which are later used in the code. (I will email you those csv files with descriptions)"
      ]
    },
    {
      "cell_type": "code",
      "metadata": {
        "id": "2nOnYAI_Enf4",
        "colab_type": "code",
        "outputId": "ea415bdf-1c0f-4672-fe05-a55fd9ccce1c",
        "colab": {
          "resources": {
            "http://localhost:8080/nbextensions/google.colab/files.js": {
              "data": "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",
              "ok": true,
              "headers": [
                [
                  "content-type",
                  "application/javascript"
                ]
              ],
              "status": 200,
              "status_text": ""
            }
          },
          "base_uri": "https://localhost:8080/",
          "height": 173
        }
      },
      "source": [
        "uploaded = files.upload()"
      ],
      "execution_count": 0,
      "outputs": [
        {
          "output_type": "display_data",
          "data": {
            "text/html": [
              "\n",
              "     <input type=\"file\" id=\"files-1f6f0a00-9808-49ae-bd22-5ce0db1c4c51\" name=\"files[]\" multiple disabled />\n",
              "     <output id=\"result-1f6f0a00-9808-49ae-bd22-5ce0db1c4c51\">\n",
              "      Upload widget is only available when the cell has been executed in the\n",
              "      current browser session. Please rerun this cell to enable.\n",
              "      </output>\n",
              "      <script src=\"/nbextensions/google.colab/files.js\"></script> "
            ],
            "text/plain": [
              "<IPython.core.display.HTML object>"
            ]
          },
          "metadata": {
            "tags": []
          }
        },
        {
          "output_type": "stream",
          "text": [
            "Saving SubmissionFile.csv to SubmissionFile.csv\n",
            "Saving test_values.csv to test_values (3).csv\n",
            "Saving train_values_copy.csv to train_values_copy (2).csv\n",
            "Saving train_values.csv to train_values (3).csv\n"
          ],
          "name": "stdout"
        }
      ]
    },
    {
      "cell_type": "markdown",
      "metadata": {
        "id": "Q_zRkEQUQGxt",
        "colab_type": "text"
      },
      "source": [
        "**Preparing the Training and Test sets**\n",
        "\n",
        "One Hot Encoding of the training and test sets. Please note that as this is a competition, the test set doesn't contain the correct answers. The \"test_values.csv\" contains the data that needs to be predicted (as probabilities) and submitted. As a result, \"train_values.csv\" is divided (75:25) for training and testing different models. "
      ]
    },
    {
      "cell_type": "code",
      "metadata": {
        "id": "ZQN4qNFMEVbJ",
        "colab_type": "code",
        "outputId": "adc5610a-ef82-40da-b0a8-0cdde1d65303",
        "colab": {
          "base_uri": "https://localhost:8080/",
          "height": 326
        }
      },
      "source": [
        "train_values_df = pd.read_csv(io.BytesIO(uploaded['train_values.csv']))\n",
        "test_values_df = pd.read_csv(io.BytesIO(uploaded['test_values.csv']))\n",
        "\n",
        "data_X = train_values_df.iloc [:,1:-1].to_numpy()\n",
        "data_Y = train_values_df.iloc [:,-1].to_numpy()\n",
        "\n",
        "#One Hot Encoding For Categorical Features\n",
        "my_encoder_X = OneHotEncoder(categorical_features = [0,1,3,4,5,6,9,12])\n",
        "data_X_transformed = my_encoder_X.fit_transform(data_X).toarray()\n",
        "\n",
        "my_encoder_Y = OneHotEncoder()\n",
        "data_Y_transformed = my_encoder_Y.fit_transform(data_Y.reshape(-1,1)).toarray()\n",
        "\n",
        "X_train = data_X_transformed[51:]\n",
        "Y_train = data_Y[51:]\n",
        "\n",
        "\n",
        "X_test = data_X_transformed[:51]\n",
        "Y_test = data_Y[:51]\n",
        "\n",
        "\n",
        "submission_data_X = test_values_df.iloc [:,1:].to_numpy()\n",
        "submission_data_X_transformed = my_encoder_X.fit_transform(submission_data_X).toarray()\n",
        "\n",
        "\n",
        "print(submission_data_X_transformed.shape)\n",
        "\n",
        "\n",
        "\n"
      ],
      "execution_count": 0,
      "outputs": [
        {
          "output_type": "stream",
          "text": [
            "(90, 28)\n"
          ],
          "name": "stdout"
        },
        {
          "output_type": "stream",
          "text": [
            "/usr/local/lib/python3.6/dist-packages/sklearn/preprocessing/_encoders.py:415: FutureWarning: The handling of integer data will change in version 0.22. Currently, the categories are determined based on the range [0, max(values)], while in the future they will be determined based on the unique values.\n",
            "If you want the future behaviour and silence this warning, you can specify \"categories='auto'\".\n",
            "In case you used a LabelEncoder before this OneHotEncoder to convert the categories to integers, then you can now use the OneHotEncoder directly.\n",
            "  warnings.warn(msg, FutureWarning)\n",
            "/usr/local/lib/python3.6/dist-packages/sklearn/preprocessing/_encoders.py:451: DeprecationWarning: The 'categorical_features' keyword is deprecated in version 0.20 and will be removed in 0.22. You can use the ColumnTransformer instead.\n",
            "  \"use the ColumnTransformer instead.\", DeprecationWarning)\n",
            "/usr/local/lib/python3.6/dist-packages/sklearn/preprocessing/_encoders.py:415: FutureWarning: The handling of integer data will change in version 0.22. Currently, the categories are determined based on the range [0, max(values)], while in the future they will be determined based on the unique values.\n",
            "If you want the future behaviour and silence this warning, you can specify \"categories='auto'\".\n",
            "In case you used a LabelEncoder before this OneHotEncoder to convert the categories to integers, then you can now use the OneHotEncoder directly.\n",
            "  warnings.warn(msg, FutureWarning)\n",
            "/usr/local/lib/python3.6/dist-packages/sklearn/preprocessing/_encoders.py:415: FutureWarning: The handling of integer data will change in version 0.22. Currently, the categories are determined based on the range [0, max(values)], while in the future they will be determined based on the unique values.\n",
            "If you want the future behaviour and silence this warning, you can specify \"categories='auto'\".\n",
            "In case you used a LabelEncoder before this OneHotEncoder to convert the categories to integers, then you can now use the OneHotEncoder directly.\n",
            "  warnings.warn(msg, FutureWarning)\n",
            "/usr/local/lib/python3.6/dist-packages/sklearn/preprocessing/_encoders.py:451: DeprecationWarning: The 'categorical_features' keyword is deprecated in version 0.20 and will be removed in 0.22. You can use the ColumnTransformer instead.\n",
            "  \"use the ColumnTransformer instead.\", DeprecationWarning)\n"
          ],
          "name": "stderr"
        }
      ]
    },
    {
      "cell_type": "markdown",
      "metadata": {
        "id": "roqPEARXQne2",
        "colab_type": "text"
      },
      "source": [
        "**Decision Tree Model**\n",
        "\n",
        "No questions with this model so far. I have arbitrarily (after trying various low, high, and intermediate values) adjusted the max_depth to 4. I wasn't sure if there is any way to tune it in a better way. One way I thought of was to run a loop for different depth values and get the best way or do roc_auc analysis to predict underfitting or overfitting. "
      ]
    },
    {
      "cell_type": "code",
      "metadata": {
        "id": "Ndoo98d5kyFS",
        "colab_type": "code",
        "outputId": "fe3729dd-3e9a-4969-a731-ff5784f4c305",
        "colab": {
          "base_uri": "https://localhost:8080/",
          "height": 374
        }
      },
      "source": [
        "#Decision Tree \n",
        "decision_tree = DecisionTreeClassifier(random_state=0, criterion='gini',max_depth=4)\n",
        "\n",
        "decision_tree.fit(X_train,Y_train)\n",
        "predictions = decision_tree.predict(X_test)\n",
        "score = accuracy_score(predictions,Y_test)\n",
        "#logloss = log_loss(Y_test,predictions) \n",
        "\n",
        "print(\"****HEART DISEASE PREDICTION RESULTS****\\n\")\n",
        "classification_rep = classification_report(Y_test,predictions)\n",
        "print(\"--->Overall Classification Report\\n\\n\")\n",
        "print(classification_rep)\n",
        "print(\"==========\")\n",
        "\n",
        "#print(\"Log Loss=\",str(logloss))\n",
        "print(\"Accuracy=\",str(score*100))\n",
        "\n",
        "confusion_matrix(Y_test, predictions)\n",
        "tn, fp, fn, tp = confusion_matrix(Y_test,predictions).ravel()\n",
        "print(\"Confusion Matrix (TN,FP,FN,TP)=\",tn,fp,fn,tp)\n",
        "\n",
        "precision = tp/(tp+fp) * 100\n",
        "print(\"Precision =\",precision)\n",
        "\n",
        "recall = tp/(tp+fn) * 100\n",
        "print(\"Recall =\",recall)\n",
        "\n",
        "specificity = tn/(tn+fp) * 100\n",
        "print(\"Specificity =\",specificity)\n",
        "\n",
        "f1_score = 2*precision*recall/(precision+recall)\n",
        "print(\"F1 Score =\",f1_score)"
      ],
      "execution_count": 0,
      "outputs": [
        {
          "output_type": "stream",
          "text": [
            "****HEART DISEASE PREDICTION RESULTS****\n",
            "\n",
            "--->Overall Classification Report\n",
            "\n",
            "\n",
            "              precision    recall  f1-score   support\n",
            "\n",
            "           0       0.87      0.79      0.83        33\n",
            "           1       0.67      0.78      0.72        18\n",
            "\n",
            "    accuracy                           0.78        51\n",
            "   macro avg       0.77      0.78      0.77        51\n",
            "weighted avg       0.80      0.78      0.79        51\n",
            "\n",
            "==========\n",
            "Accuracy= 78.43137254901961\n",
            "Confusion Matrix (TN,FP,FN,TP)= 26 7 4 14\n",
            "Precision = 66.66666666666666\n",
            "Recall = 77.77777777777779\n",
            "Specificity = 78.78787878787878\n",
            "F1 Score = 71.7948717948718\n"
          ],
          "name": "stdout"
        }
      ]
    },
    {
      "cell_type": "markdown",
      "metadata": {
        "id": "RXlIy-U6RAyt",
        "colab_type": "text"
      },
      "source": [
        "**Logistic Regression**\n",
        "\n",
        "No questions for this section. Just gave a try to Logistic Regression to prove that it shouldn't be done in case of dependent feature variables. "
      ]
    },
    {
      "cell_type": "code",
      "metadata": {
        "id": "iUZlyqcSsOSl",
        "colab_type": "code",
        "outputId": "3f22465e-fe77-45ee-81bb-04751684cfb7",
        "colab": {
          "base_uri": "https://localhost:8080/",
          "height": 1000
        }
      },
      "source": [
        "#Logistic Regression\n",
        "logistic_regression = LogisticRegression(solver='lbfgs', penalty=\"none\", fit_intercept=False)\n",
        "\n",
        "logistic_regression.fit(X_train,Y_train)\n",
        "predictions = logistic_regression.predict(X_test)\n",
        "prob_pred = logistic_regression.predict_proba(X_test)\n",
        "score = accuracy_score(predictions,Y_test)\n",
        "print(prob_pred)\n",
        "#logloss = log_loss(Y_test,predictions) \n",
        "\n",
        "print(\"****HEART DISEASE PREDICTION RESULTS****\\n\")\n",
        "classification_rep = classification_report(Y_test,predictions)\n",
        "print(\"--->Overall Classification Report\\n\\n\")\n",
        "print(classification_rep)\n",
        "print(\"==========\")\n",
        "\n",
        "#print(\"Log Loss=\",str(logloss))\n",
        "print(\"Accuracy=\",str(score*100))\n",
        "\n",
        "confusion_matrix(Y_test, predictions)\n",
        "tn, fp, fn, tp = confusion_matrix(Y_test,predictions).ravel()\n",
        "print(\"Confusion Matrix (TN,FP,FN,TP)=\",tn,fp,fn,tp)\n",
        "\n",
        "precision = tp/(tp+fp) * 100\n",
        "print(\"Precision =\",precision)\n",
        "\n",
        "recall = tp/(tp+fn) * 100\n",
        "print(\"Recall =\",recall)\n",
        "\n",
        "specificity = tn/(tn+fp) * 100\n",
        "print(\"Specificity =\",specificity)\n",
        "\n",
        "f1_score = 2*precision*recall/(precision+recall)\n",
        "print(\"F1 Score =\",f1_score)\n",
        "\n",
        "false_positive_rate, true_positive_rate, thresholds = roc_curve(Y_test, predictions)\n",
        "roc_auc = auc(false_positive_rate, true_positive_rate)\n",
        "print(\"AUC:\",str(roc_auc))"
      ],
      "execution_count": 0,
      "outputs": [
        {
          "output_type": "stream",
          "text": [
            "[[0.95260687 0.04739313]\n",
            " [0.97073896 0.02926104]\n",
            " [0.21773722 0.78226278]\n",
            " [0.4801007  0.5198993 ]\n",
            " [0.12872215 0.87127785]\n",
            " [0.98131533 0.01868467]\n",
            " [0.00974846 0.99025154]\n",
            " [0.03760819 0.96239181]\n",
            " [0.00892598 0.99107402]\n",
            " [0.96268662 0.03731338]\n",
            " [0.57384989 0.42615011]\n",
            " [0.83362486 0.16637514]\n",
            " [0.98937895 0.01062105]\n",
            " [0.5418134  0.4581866 ]\n",
            " [0.19675379 0.80324621]\n",
            " [0.04696894 0.95303106]\n",
            " [0.94126041 0.05873959]\n",
            " [0.0571218  0.9428782 ]\n",
            " [0.93382861 0.06617139]\n",
            " [0.85444576 0.14555424]\n",
            " [0.95364708 0.04635292]\n",
            " [0.07979958 0.92020042]\n",
            " [0.78919533 0.21080467]\n",
            " [0.25102019 0.74897981]\n",
            " [0.96992353 0.03007647]\n",
            " [0.94270175 0.05729825]\n",
            " [0.61953904 0.38046096]\n",
            " [0.98123824 0.01876176]\n",
            " [0.53961402 0.46038598]\n",
            " [0.97970929 0.02029071]\n",
            " [0.61769689 0.38230311]\n",
            " [0.02384675 0.97615325]\n",
            " [0.0102998  0.9897002 ]\n",
            " [0.9107258  0.0892742 ]\n",
            " [0.07889801 0.92110199]\n",
            " [0.74905531 0.25094469]\n",
            " [0.63835906 0.36164094]\n",
            " [0.97145259 0.02854741]\n",
            " [0.92580532 0.07419468]\n",
            " [0.13879495 0.86120505]\n",
            " [0.83993948 0.16006052]\n",
            " [0.99201791 0.00798209]\n",
            " [0.95320546 0.04679454]\n",
            " [0.86193377 0.13806623]\n",
            " [0.99165484 0.00834516]\n",
            " [0.92875942 0.07124058]\n",
            " [0.53368858 0.46631142]\n",
            " [0.83571316 0.16428684]\n",
            " [0.12549939 0.87450061]\n",
            " [0.99568289 0.00431711]\n",
            " [0.00540494 0.99459506]]\n",
            "****HEART DISEASE PREDICTION RESULTS****\n",
            "\n",
            "--->Overall Classification Report\n",
            "\n",
            "\n",
            "              precision    recall  f1-score   support\n",
            "\n",
            "           0       0.88      0.91      0.90        33\n",
            "           1       0.82      0.78      0.80        18\n",
            "\n",
            "    accuracy                           0.86        51\n",
            "   macro avg       0.85      0.84      0.85        51\n",
            "weighted avg       0.86      0.86      0.86        51\n",
            "\n",
            "==========\n",
            "Accuracy= 86.27450980392157\n",
            "Confusion Matrix (TN,FP,FN,TP)= 30 3 4 14\n",
            "Precision = 82.35294117647058\n",
            "Recall = 77.77777777777779\n",
            "Specificity = 90.9090909090909\n",
            "F1 Score = 80.0\n",
            "AUC: 0.8434343434343433\n"
          ],
          "name": "stdout"
        },
        {
          "output_type": "stream",
          "text": [
            "/usr/local/lib/python3.6/dist-packages/sklearn/linear_model/logistic.py:947: ConvergenceWarning: lbfgs failed to converge. Increase the number of iterations.\n",
            "  \"of iterations.\", ConvergenceWarning)\n"
          ],
          "name": "stderr"
        }
      ]
    },
    {
      "cell_type": "markdown",
      "metadata": {
        "id": "43EgP6KeRViT",
        "colab_type": "text"
      },
      "source": [
        "**Random Forest Classifier**\n",
        "\n",
        "Lastly, I tried the Random Forest classifier. It seems to work really well but I am still not sure about how to get the right values of n_estimators (trees) and max_depth. I tried to run a loop and tune it, but doesn't work because it doesn't give the same answer every time. \n",
        "\n",
        "In the further code boxes, I have tried to do roc_auc analysis for finding a good depth and n_estimators but doesn't seem helpful as well. \n",
        "\n",
        "**QUESTION** -- Can you please check the next two code boxes in which I tried to tune the Random Forest and suggest with some techniques to tune the Random Forest Classifier? "
      ]
    },
    {
      "cell_type": "code",
      "metadata": {
        "id": "eCESLmtBEacj",
        "colab_type": "code",
        "outputId": "372aafc6-1060-4bbb-b04d-3aa14eaa8e29",
        "colab": {
          "base_uri": "https://localhost:8080/",
          "height": 391
        }
      },
      "source": [
        "#Random Forest\n",
        "random_forest = RandomForestClassifier(n_estimators = 300, max_depth = 28, min_samples_leaf = 1)\n",
        "random_forest.fit(X_train,Y_train)\n",
        "predictions = random_forest.predict(X_test)\n",
        "prob_pred = random_forest.predict_proba(X_test)\n",
        "\n",
        "score = accuracy_score(predictions,Y_test)\n",
        "\n",
        "print(\"****HEART DISEASE PREDICTION RESULTS****\\n\")\n",
        "classification_rep = classification_report(Y_test,predictions)\n",
        "print(\"--->Overall Classification Report\\n\\n\")\n",
        "print(classification_rep)\n",
        "print(\"==========\")\n",
        "\n",
        "#print(\"Log Loss=\",str(logloss))\n",
        "print(\"Accuracy=\",str(score*100))\n",
        "\n",
        "confusion_matrix(Y_test, predictions)\n",
        "tn, fp, fn, tp = confusion_matrix(Y_test,predictions).ravel()\n",
        "print(\"Confusion Matrix (TN,FP,FN,TP)=\",tn,fp,fn,tp)\n",
        "\n",
        "precision = tp/(tp+fp) * 100\n",
        "print(\"Precision =\",precision)\n",
        "\n",
        "recall = tp/(tp+fn) * 100\n",
        "print(\"Recall =\",recall)\n",
        "\n",
        "specificity = tn/(tn+fp) * 100\n",
        "print(\"Specificity =\",specificity)\n",
        "\n",
        "f1_score = 2*precision*recall/(precision+recall)\n",
        "print(\"F1 Score =\",f1_score)\n",
        "\n",
        "\n",
        "false_positive_rate, true_positive_rate, thresholds = roc_curve(Y_test, predictions)\n",
        "roc_auc = auc(false_positive_rate, true_positive_rate)\n",
        "print(\"AUC:\",str(roc_auc))\n",
        "#print(prob_pred)"
      ],
      "execution_count": 0,
      "outputs": [
        {
          "output_type": "stream",
          "text": [
            "****HEART DISEASE PREDICTION RESULTS****\n",
            "\n",
            "--->Overall Classification Report\n",
            "\n",
            "\n",
            "              precision    recall  f1-score   support\n",
            "\n",
            "           0       0.84      0.82      0.83        33\n",
            "           1       0.68      0.72      0.70        18\n",
            "\n",
            "    accuracy                           0.78        51\n",
            "   macro avg       0.76      0.77      0.77        51\n",
            "weighted avg       0.79      0.78      0.79        51\n",
            "\n",
            "==========\n",
            "Accuracy= 78.43137254901961\n",
            "Confusion Matrix (TN,FP,FN,TP)= 27 6 5 13\n",
            "Precision = 68.42105263157895\n",
            "Recall = 72.22222222222221\n",
            "Specificity = 81.81818181818183\n",
            "F1 Score = 70.27027027027027\n",
            "AUC: 0.7702020202020202\n"
          ],
          "name": "stdout"
        }
      ]
    },
    {
      "cell_type": "code",
      "metadata": {
        "id": "Rrc-WDO_HGav",
        "colab_type": "code",
        "outputId": "5cb3d558-8bf8-4e42-b3c7-f6b62f9b017b",
        "colab": {
          "base_uri": "https://localhost:8080/",
          "height": 170
        }
      },
      "source": [
        "#Tuning The Previous Random Forest Model (estimators)\n",
        "n_estimators_val = [1, 2, 4, 8, 16, 32, 64, 100, 200]\n",
        "train_results= []\n",
        "test_results = []\n",
        "\n",
        "for estimators in n_estimators_val:\n",
        "  random_forest = RandomForestClassifier(n_estimators = estimators)\n",
        "  random_forest.fit(X_train,Y_train)\n",
        "  \n",
        "  train_predictions = random_forest.predict(X_train)\n",
        "  false_positive_rate, true_positive_rate, thresholds = roc_curve(Y_train, train_predictions)\n",
        "  roc_auc = auc(false_positive_rate, true_positive_rate)\n",
        "  train_results.append(roc_auc)\n",
        "  #print(estimators,str(roc_auc))\n",
        "  \n",
        "  test_predictions = random_forest.predict(X_test)\n",
        "  false_positive_rate, true_positive_rate, thresholds = roc_curve(Y_test, test_predictions)\n",
        "  roc_auc = auc(false_positive_rate, true_positive_rate)\n",
        "  train_results.append(roc_auc)\n",
        "  print(estimators,str(roc_auc))\n",
        "  \n",
        "#line1 = plt.plot(np.array(n_estimators_val), np.array(train_results), 'b', label='Train AUC')\n",
        "#line2 = plt.plot(np.array(n_estimators_val), np.array(test_results), 'r', label='Test AUC')\n",
        "#plt.legend(handler_map={line1: HandlerLine2D(numpoints=2)})\n",
        "#plt.ylabel('AUC score')\n",
        "#plt.xlabel('Estimator')\n",
        "#plt.show()\n",
        "\n",
        "  \n",
        "  \n",
        "  \n",
        "\n",
        "      "
      ],
      "execution_count": 0,
      "outputs": [
        {
          "output_type": "stream",
          "text": [
            "1 0.7424242424242422\n",
            "2 0.6641414141414141\n",
            "4 0.7171717171717171\n",
            "8 0.7727272727272727\n",
            "16 0.8005050505050506\n",
            "32 0.7424242424242422\n",
            "64 0.7272727272727272\n",
            "100 0.7272727272727272\n",
            "200 0.7853535353535355\n"
          ],
          "name": "stdout"
        }
      ]
    },
    {
      "cell_type": "code",
      "metadata": {
        "id": "m4zhepXFbocQ",
        "colab_type": "code",
        "outputId": "96ea663d-38b6-42a1-bc09-3929614f32d4",
        "colab": {
          "base_uri": "https://localhost:8080/",
          "height": 827
        }
      },
      "source": [
        "#Tuning The Previous Random Forest Model (depth)\n",
        "depth_vals = np.linspace(1, 32, 32, endpoint=True)\n",
        "train_results = []\n",
        "test_results = []\n",
        "for max_depth in depth_vals:\n",
        "  rf = RandomForestClassifier(max_depth=max_depth, n_jobs=-1,n_estimators = 10)\n",
        "  rf.fit(X_train, Y_train)\n",
        "  \n",
        "  train_pred = rf.predict(X_train)\n",
        "  false_positive_rate, true_positive_rate, thresholds = roc_curve(Y_train, train_pred)\n",
        "  roc_auc = auc(false_positive_rate, true_positive_rate)\n",
        "  train_results.append(roc_auc)\n",
        "  \n",
        "  \n",
        "  y_pred = rf.predict(X_test)\n",
        "  false_positive_rate, true_positive_rate, thresholds = roc_curve(Y_test, y_pred)\n",
        "  roc_auc = auc(false_positive_rate, true_positive_rate)\n",
        "  test_results.append(roc_auc)\n",
        "  print(max_depth,str(roc_auc))\n",
        "  \n",
        "\n",
        "\n",
        "  \n",
        "line1, = plt.plot(depth_vals, train_results, 'b', label='Train AUC')\n",
        "line2, = plt.plot(depth_vals, test_results, 'r', label='Test AUC')\n",
        "plt.legend(handler_map={line1: HandlerLine2D(numpoints=2)})\n",
        "plt.ylabel('AUC score')\n",
        "plt.xlabel('Tree depth')\n",
        "plt.show()\n"
      ],
      "execution_count": 0,
      "outputs": [
        {
          "output_type": "stream",
          "text": [
            "1.0 0.7323232323232324\n",
            "2.0 0.8282828282828283\n",
            "3.0 0.73989898989899\n",
            "4.0 0.8005050505050506\n",
            "5.0 0.7727272727272727\n",
            "6.0 0.7878787878787877\n",
            "7.0 0.6691919191919192\n",
            "8.0 0.7727272727272727\n",
            "9.0 0.6136363636363635\n",
            "10.0 0.7424242424242422\n",
            "11.0 0.7297979797979798\n",
            "12.0 0.7424242424242422\n",
            "13.0 0.7146464646464646\n",
            "14.0 0.702020202020202\n",
            "15.0 0.7727272727272727\n",
            "16.0 0.7575757575757576\n",
            "17.0 0.7575757575757576\n",
            "18.0 0.7272727272727272\n",
            "19.0 0.712121212121212\n",
            "20.0 0.7474747474747475\n",
            "21.0 0.744949494949495\n",
            "22.0 0.7727272727272727\n",
            "23.0 0.7474747474747475\n",
            "24.0 0.696969696969697\n",
            "25.0 0.7727272727272727\n",
            "26.0 0.73989898989899\n",
            "27.0 0.7575757575757576\n",
            "28.0 0.7424242424242422\n",
            "29.0 0.845959595959596\n",
            "30.0 0.7601010101010102\n",
            "31.0 0.7146464646464646\n",
            "32.0 0.7727272727272727\n"
          ],
          "name": "stdout"
        },
        {
          "output_type": "display_data",
          "data": {
            "image/png": "[encoded data removed]",
            "text/plain": [
              "<Figure size 432x288 with 1 Axes>"
            ]
          },
          "metadata": {
            "tags": []
          }
        }
      ]
    },
    {
      "cell_type": "markdown",
      "metadata": {
        "id": "pvs19W8QR64c",
        "colab_type": "text"
      },
      "source": [
        "** SGD CLASSIFIER** \n",
        "\n",
        "Just gave a try to SGD classifier as it is kind of a combination of Logistic Regression and SVM. But doesn't seem to perform well because of data dependency. No questions for this as well. "
      ]
    },
    {
      "cell_type": "code",
      "metadata": {
        "id": "VzFU8dLzk4zh",
        "colab_type": "code",
        "outputId": "57d704b1-dd6c-427f-bcd8-118e80e5b690",
        "colab": {
          "base_uri": "https://localhost:8080/",
          "height": 391
        }
      },
      "source": [
        "#SGD Classifier\n",
        "sgd_classifier = linear_model.SGDClassifier(max_iter=1000, tol=1e-3, shuffle=True)\n",
        "sgd_classifier.fit(X_train, Y_train)\n",
        "predictions = sgd_classifier.predict(X_test)\n",
        "\n",
        "score = accuracy_score(Y_test,predictions)\n",
        "print(score*100)\n",
        "\n",
        "print(\"****HEART DISEASE PREDICTION RESULTS****\\n\")\n",
        "classification_rep = classification_report(Y_test,predictions)\n",
        "print(\"--->Overall Classification Report\\n\\n\")\n",
        "print(classification_rep)\n",
        "print(\"==========\")\n",
        "\n",
        "#print(\"Log Loss=\",str(logloss))\n",
        "print(\"Accuracy=\",str(score*100))\n",
        "\n",
        "confusion_matrix(Y_test, predictions)\n",
        "tn, fp, fn, tp = confusion_matrix(Y_test,predictions).ravel()\n",
        "print(\"Confusion Matrix (TN,FP,FN,TP)=\",tn,fp,fn,tp)\n",
        "\n",
        "precision = tp/(tp+fp) * 100\n",
        "print(\"Precision =\",precision)\n",
        "\n",
        "recall = tp/(tp+fn) * 100\n",
        "print(\"Recall =\",recall)\n",
        "\n",
        "specificity = tn/(tn+fp) * 100\n",
        "print(\"Specificity =\",specificity)\n",
        "\n",
        "f1_score = 2*precision*recall/(precision+recall)\n",
        "print(\"F1 Score =\",f1_score)\n"
      ],
      "execution_count": 0,
      "outputs": [
        {
          "output_type": "stream",
          "text": [
            "70.58823529411765\n",
            "****HEART DISEASE PREDICTION RESULTS****\n",
            "\n",
            "--->Overall Classification Report\n",
            "\n",
            "\n",
            "              precision    recall  f1-score   support\n",
            "\n",
            "           0       0.91      0.61      0.73        33\n",
            "           1       0.55      0.89      0.68        18\n",
            "\n",
            "    accuracy                           0.71        51\n",
            "   macro avg       0.73      0.75      0.70        51\n",
            "weighted avg       0.78      0.71      0.71        51\n",
            "\n",
            "==========\n",
            "Accuracy= 70.58823529411765\n",
            "Confusion Matrix (TN,FP,FN,TP)= 20 13 2 16\n",
            "Precision = 55.172413793103445\n",
            "Recall = 88.88888888888889\n",
            "Specificity = 60.60606060606061\n",
            "F1 Score = 68.08510638297871\n"
          ],
          "name": "stdout"
        }
      ]
    }
  ]
}