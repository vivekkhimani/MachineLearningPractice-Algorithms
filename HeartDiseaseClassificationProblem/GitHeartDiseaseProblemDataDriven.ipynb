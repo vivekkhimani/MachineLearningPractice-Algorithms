{
  "nbformat": 4,
  "nbformat_minor": 0,
  "metadata": {
    "colab": {
      "name": "GitHeartDiseaseProblemDataDriven",
      "version": "0.3.2",
      "provenance": [],
      "collapsed_sections": []
    },
    "kernelspec": {
      "name": "python3",
      "display_name": "Python 3"
    }
  },
  "cells": [
    {
      "cell_type": "code",
      "metadata": {
        "id": "zqYFoHNUDu4T",
        "colab_type": "code",
        "colab": {
          "base_uri": "https://localhost:8080/",
          "height": 71
        },
        "outputId": "60f05a42-dcd7-409d-8dd7-b95d5bc3480b"
      },
      "source": [
        "!python3 -m io\n",
        "import pandas as pd\n",
        "import numpy as np\n",
        "import csv\n",
        "from google.colab import files\n",
        "from sklearn import linear_model\n",
        "from sklearn.tree import DecisionTreeClassifier\n",
        "from sklearn.ensemble import RandomForestClassifier\n",
        "from sklearn.metrics import accuracy_score,classification_report,log_loss,confusion_matrix,roc_curve,auc\n",
        "from sklearn.preprocessing import OneHotEncoder,MinMaxScaler\n",
        "from sklearn.linear_model import LogisticRegression\n",
        "from imblearn.over_sampling import SMOTE\n",
        "import matplotlib.pyplot as plt\n",
        "from matplotlib.legend_handler import HandlerLine2D\n",
        "import io"
      ],
      "execution_count": 1,
      "outputs": [
        {
          "output_type": "stream",
          "text": [
            "/usr/local/lib/python3.6/dist-packages/sklearn/externals/six.py:31: DeprecationWarning: The module is deprecated in version 0.21 and will be removed in version 0.23 since we've dropped support for Python 2.7. Please rely on the official version of six (https://pypi.org/project/six/).\n",
            "  \"(https://pypi.org/project/six/).\", DeprecationWarning)\n"
          ],
          "name": "stderr"
        }
      ]
    },
    {
      "cell_type": "markdown",
      "metadata": {
        "id": "4k7E5VzyP0QB",
        "colab_type": "text"
      },
      "source": [
        "**Uploading CSV Files**\n",
        "\n",
        "The next cell asks the executor to upload csv files on the notebook which are later used in the code. (I will email you those csv files with descriptions)"
      ]
    },
    {
      "cell_type": "code",
      "metadata": {
        "id": "2nOnYAI_Enf4",
        "colab_type": "code",
        "outputId": "41660aba-d9e9-426e-b671-53711f5649c5",
        "colab": {
          "resources": {
            "http://localhost:8080/nbextensions/google.colab/files.js": {
              "data": "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",
              "ok": true,
              "headers": [
                [
                  "content-type",
                  "application/javascript"
                ]
              ],
              "status": 200,
              "status_text": ""
            }
          },
          "base_uri": "https://localhost:8080/",
          "height": 139
        }
      },
      "source": [
        "uploaded = files.upload()"
      ],
      "execution_count": 3,
      "outputs": [
        {
          "output_type": "display_data",
          "data": {
            "text/html": [
              "\n",
              "     <input type=\"file\" id=\"files-0896a218-6b86-4cb5-91ad-12b32c875d6e\" name=\"files[]\" multiple disabled />\n",
              "     <output id=\"result-0896a218-6b86-4cb5-91ad-12b32c875d6e\">\n",
              "      Upload widget is only available when the cell has been executed in the\n",
              "      current browser session. Please rerun this cell to enable.\n",
              "      </output>\n",
              "      <script src=\"/nbextensions/google.colab/files.js\"></script> "
            ],
            "text/plain": [
              "<IPython.core.display.HTML object>"
            ]
          },
          "metadata": {
            "tags": []
          }
        },
        {
          "output_type": "stream",
          "text": [
            "Saving SubmissionFile.csv to SubmissionFile.csv\n",
            "Saving test_values.csv to test_values.csv\n",
            "Saving train_values.csv to train_values.csv\n"
          ],
          "name": "stdout"
        }
      ]
    },
    {
      "cell_type": "markdown",
      "metadata": {
        "id": "Q_zRkEQUQGxt",
        "colab_type": "text"
      },
      "source": [
        "**Preparing the Training and Test sets**\n",
        "\n",
        "One Hot Encoding of the training and test sets. Please note that as this is a competition, the test set doesn't contain the correct answers. The \"test_values.csv\" contains the data that needs to be predicted (as probabilities) and submitted. As a result, \"train_values.csv\" is divided (75:25) for training and testing different models. "
      ]
    },
    {
      "cell_type": "code",
      "metadata": {
        "id": "ZQN4qNFMEVbJ",
        "colab_type": "code",
        "outputId": "50e7026c-5d58-4511-a365-8ba2b306d641",
        "colab": {
          "base_uri": "https://localhost:8080/",
          "height": 326
        }
      },
      "source": [
        "train_values_df = pd.read_csv(io.BytesIO(uploaded['train_values.csv']))\n",
        "test_values_df = pd.read_csv(io.BytesIO(uploaded['test_values.csv']))\n",
        "\n",
        "data_X = train_values_df.iloc [:,1:-1].to_numpy()\n",
        "data_Y = train_values_df.iloc [:,-1].to_numpy()\n",
        "\n",
        "#One Hot Encoding For Categorical Features\n",
        "my_encoder_X = OneHotEncoder(categorical_features = [0,1,3,4,5,6,9,12])\n",
        "data_X_transformed = my_encoder_X.fit_transform(data_X).toarray()\n",
        "\n",
        "my_encoder_Y = OneHotEncoder()\n",
        "data_Y_transformed = my_encoder_Y.fit_transform(data_Y.reshape(-1,1)).toarray()\n",
        "\n",
        "X_train = data_X_transformed[51:]\n",
        "Y_train = data_Y[51:]\n",
        "\n",
        "\n",
        "X_test = data_X_transformed[:51]\n",
        "Y_test = data_Y[:51]\n",
        "\n",
        "\n",
        "submission_data_X = test_values_df.iloc [:,1:].to_numpy()\n",
        "submission_data_X_transformed = my_encoder_X.fit_transform(submission_data_X).toarray()\n",
        "\n",
        "\n",
        "print(submission_data_X_transformed.shape)\n",
        "\n",
        "\n",
        "\n"
      ],
      "execution_count": 4,
      "outputs": [
        {
          "output_type": "stream",
          "text": [
            "(90, 28)\n"
          ],
          "name": "stdout"
        },
        {
          "output_type": "stream",
          "text": [
            "/usr/local/lib/python3.6/dist-packages/sklearn/preprocessing/_encoders.py:415: FutureWarning: The handling of integer data will change in version 0.22. Currently, the categories are determined based on the range [0, max(values)], while in the future they will be determined based on the unique values.\n",
            "If you want the future behaviour and silence this warning, you can specify \"categories='auto'\".\n",
            "In case you used a LabelEncoder before this OneHotEncoder to convert the categories to integers, then you can now use the OneHotEncoder directly.\n",
            "  warnings.warn(msg, FutureWarning)\n",
            "/usr/local/lib/python3.6/dist-packages/sklearn/preprocessing/_encoders.py:451: DeprecationWarning: The 'categorical_features' keyword is deprecated in version 0.20 and will be removed in 0.22. You can use the ColumnTransformer instead.\n",
            "  \"use the ColumnTransformer instead.\", DeprecationWarning)\n",
            "/usr/local/lib/python3.6/dist-packages/sklearn/preprocessing/_encoders.py:415: FutureWarning: The handling of integer data will change in version 0.22. Currently, the categories are determined based on the range [0, max(values)], while in the future they will be determined based on the unique values.\n",
            "If you want the future behaviour and silence this warning, you can specify \"categories='auto'\".\n",
            "In case you used a LabelEncoder before this OneHotEncoder to convert the categories to integers, then you can now use the OneHotEncoder directly.\n",
            "  warnings.warn(msg, FutureWarning)\n",
            "/usr/local/lib/python3.6/dist-packages/sklearn/preprocessing/_encoders.py:415: FutureWarning: The handling of integer data will change in version 0.22. Currently, the categories are determined based on the range [0, max(values)], while in the future they will be determined based on the unique values.\n",
            "If you want the future behaviour and silence this warning, you can specify \"categories='auto'\".\n",
            "In case you used a LabelEncoder before this OneHotEncoder to convert the categories to integers, then you can now use the OneHotEncoder directly.\n",
            "  warnings.warn(msg, FutureWarning)\n",
            "/usr/local/lib/python3.6/dist-packages/sklearn/preprocessing/_encoders.py:451: DeprecationWarning: The 'categorical_features' keyword is deprecated in version 0.20 and will be removed in 0.22. You can use the ColumnTransformer instead.\n",
            "  \"use the ColumnTransformer instead.\", DeprecationWarning)\n"
          ],
          "name": "stderr"
        }
      ]
    },
    {
      "cell_type": "code",
      "metadata": {
        "id": "Ndoo98d5kyFS",
        "colab_type": "code",
        "outputId": "35b56f89-42e5-457d-bf02-8cf8c598f724",
        "colab": {
          "base_uri": "https://localhost:8080/",
          "height": 374
        }
      },
      "source": [
        "#Decision Tree \n",
        "decision_tree = DecisionTreeClassifier(random_state=0, criterion='gini',max_depth=4)\n",
        "\n",
        "decision_tree.fit(X_train,Y_train)\n",
        "predictions = decision_tree.predict(X_test)\n",
        "score = accuracy_score(predictions,Y_test)\n",
        "#logloss = log_loss(Y_test,predictions) \n",
        "\n",
        "print(\"****HEART DISEASE PREDICTION RESULTS****\\n\")\n",
        "classification_rep = classification_report(Y_test,predictions)\n",
        "print(\"--->Overall Classification Report\\n\\n\")\n",
        "print(classification_rep)\n",
        "print(\"==========\")\n",
        "\n",
        "#print(\"Log Loss=\",str(logloss))\n",
        "print(\"Accuracy=\",str(score*100))\n",
        "\n",
        "confusion_matrix(Y_test, predictions)\n",
        "tn, fp, fn, tp = confusion_matrix(Y_test,predictions).ravel()\n",
        "print(\"Confusion Matrix (TN,FP,FN,TP)=\",tn,fp,fn,tp)\n",
        "\n",
        "precision = tp/(tp+fp) * 100\n",
        "print(\"Precision =\",precision)\n",
        "\n",
        "recall = tp/(tp+fn) * 100\n",
        "print(\"Recall =\",recall)\n",
        "\n",
        "specificity = tn/(tn+fp) * 100\n",
        "print(\"Specificity =\",specificity)\n",
        "\n",
        "f1_score = 2*precision*recall/(precision+recall)\n",
        "print(\"F1 Score =\",f1_score)"
      ],
      "execution_count": 5,
      "outputs": [
        {
          "output_type": "stream",
          "text": [
            "****HEART DISEASE PREDICTION RESULTS****\n",
            "\n",
            "--->Overall Classification Report\n",
            "\n",
            "\n",
            "              precision    recall  f1-score   support\n",
            "\n",
            "           0       0.87      0.79      0.83        33\n",
            "           1       0.67      0.78      0.72        18\n",
            "\n",
            "    accuracy                           0.78        51\n",
            "   macro avg       0.77      0.78      0.77        51\n",
            "weighted avg       0.80      0.78      0.79        51\n",
            "\n",
            "==========\n",
            "Accuracy= 78.43137254901961\n",
            "Confusion Matrix (TN,FP,FN,TP)= 26 7 4 14\n",
            "Precision = 66.66666666666666\n",
            "Recall = 77.77777777777779\n",
            "Specificity = 78.78787878787878\n",
            "F1 Score = 71.7948717948718\n"
          ],
          "name": "stdout"
        }
      ]
    },
    {
      "cell_type": "code",
      "metadata": {
        "id": "iUZlyqcSsOSl",
        "colab_type": "code",
        "outputId": "7415e73d-958a-49dd-9538-66b3313651c8",
        "colab": {
          "base_uri": "https://localhost:8080/",
          "height": 425
        }
      },
      "source": [
        "#Logistic Regression\n",
        "logistic_regression = LogisticRegression(solver='lbfgs', penalty=\"none\", fit_intercept=False)\n",
        "\n",
        "logistic_regression.fit(X_train,Y_train)\n",
        "predictions = logistic_regression.predict(X_test)\n",
        "prob_pred = logistic_regression.predict_proba(X_test)\n",
        "score = accuracy_score(predictions,Y_test)\n",
        "#print(prob_pred)\n",
        "#logloss = log_loss(Y_test,predictions) \n",
        "\n",
        "print(\"****HEART DISEASE PREDICTION RESULTS****\\n\")\n",
        "classification_rep = classification_report(Y_test,predictions)\n",
        "print(\"--->Overall Classification Report\\n\\n\")\n",
        "print(classification_rep)\n",
        "print(\"==========\")\n",
        "\n",
        "#print(\"Log Loss=\",str(logloss))\n",
        "print(\"Accuracy=\",str(score*100))\n",
        "\n",
        "confusion_matrix(Y_test, predictions)\n",
        "tn, fp, fn, tp = confusion_matrix(Y_test,predictions).ravel()\n",
        "print(\"Confusion Matrix (TN,FP,FN,TP)=\",tn,fp,fn,tp)\n",
        "\n",
        "precision = tp/(tp+fp) * 100\n",
        "print(\"Precision =\",precision)\n",
        "\n",
        "recall = tp/(tp+fn) * 100\n",
        "print(\"Recall =\",recall)\n",
        "\n",
        "specificity = tn/(tn+fp) * 100\n",
        "print(\"Specificity =\",specificity)\n",
        "\n",
        "f1_score = 2*precision*recall/(precision+recall)\n",
        "print(\"F1 Score =\",f1_score)\n",
        "\n",
        "false_positive_rate, true_positive_rate, thresholds = roc_curve(Y_test, predictions)\n",
        "roc_auc = auc(false_positive_rate, true_positive_rate)\n",
        "print(\"AUC:\",str(roc_auc))"
      ],
      "execution_count": 7,
      "outputs": [
        {
          "output_type": "stream",
          "text": [
            "****HEART DISEASE PREDICTION RESULTS****\n",
            "\n",
            "--->Overall Classification Report\n",
            "\n",
            "\n",
            "              precision    recall  f1-score   support\n",
            "\n",
            "           0       0.88      0.91      0.90        33\n",
            "           1       0.82      0.78      0.80        18\n",
            "\n",
            "    accuracy                           0.86        51\n",
            "   macro avg       0.85      0.84      0.85        51\n",
            "weighted avg       0.86      0.86      0.86        51\n",
            "\n",
            "==========\n",
            "Accuracy= 86.27450980392157\n",
            "Confusion Matrix (TN,FP,FN,TP)= 30 3 4 14\n",
            "Precision = 82.35294117647058\n",
            "Recall = 77.77777777777779\n",
            "Specificity = 90.9090909090909\n",
            "F1 Score = 80.0\n",
            "AUC: 0.8434343434343433\n"
          ],
          "name": "stdout"
        },
        {
          "output_type": "stream",
          "text": [
            "/usr/local/lib/python3.6/dist-packages/sklearn/linear_model/logistic.py:947: ConvergenceWarning: lbfgs failed to converge. Increase the number of iterations.\n",
            "  \"of iterations.\", ConvergenceWarning)\n"
          ],
          "name": "stderr"
        }
      ]
    },
    {
      "cell_type": "code",
      "metadata": {
        "id": "YfKRGGm2Xb3C",
        "colab_type": "code",
        "colab": {
          "base_uri": "https://localhost:8080/",
          "height": 105
        },
        "outputId": "e897478d-b84c-49a2-8c09-ec826666aa79"
      },
      "source": [
        "#Writing Logistic Regression Results on the Submission CSV file. \n",
        "logistic_regression = LogisticRegression(solver='lbfgs', penalty=\"none\", fit_intercept=False)\n",
        "logistic_regression.fit(X_train,Y_train)\n",
        "predictions = logistic_regression.predict(submission_data_X_transformed)\n",
        "prob_pred = logistic_regression.predict_proba(submission_data_X_transformed)\n",
        "#print(prob_pred)\n",
        "\n",
        "output_list = []\n",
        "with open('SubmissionFile.csv') as csv_file:\n",
        "  reader = csv.reader(csv_file)\n",
        "  output_list = list(reader)\n",
        "csv_file.close()\n",
        "\n",
        "#prob_pred = np array, converting it to python list for output processing\n",
        "prob_list = prob_pred.tolist()\n",
        "print(prob_list)\n",
        "\n",
        "output_list[0].append('heart_disease_present')\n",
        "counter = 1\n",
        "for items in prob_list:\n",
        "  output_list[counter].append(items[1])\n",
        "  counter+=1\n",
        "  \n",
        "print(output_list)\n",
        "\n",
        "#writing output list to csv_file\n",
        "with open(\"FinalFile.csv\",'w') as csv_file:\n",
        "  writer = csv.writer(csv_file)\n",
        "  writer.writerows(output_list)\n",
        "csv_file.close()\n",
        "\n",
        "files.download(\"FinalFile.csv\")"
      ],
      "execution_count": 27,
      "outputs": [
        {
          "output_type": "stream",
          "text": [
            "/usr/local/lib/python3.6/dist-packages/sklearn/linear_model/logistic.py:947: ConvergenceWarning: lbfgs failed to converge. Increase the number of iterations.\n",
            "  \"of iterations.\", ConvergenceWarning)\n"
          ],
          "name": "stderr"
        },
        {
          "output_type": "stream",
          "text": [
            "[[0.7616746525993736, 0.23832534740062644], [0.8010820334052642, 0.19891796659473582], [0.013152657642794274, 0.9868473423572057], [0.9847447659839131, 0.015255234016086841], [0.006390985942124394, 0.9936090140578756], [0.9849220342716886, 0.01507796572831149], [0.9684406004796662, 0.03155939952033382], [0.05028346181368437, 0.9497165381863156], [0.77600950894505, 0.22399049105494992], [0.955027605717261, 0.044972394282739074], [0.6209876212844648, 0.37901237871553517], [0.3723527244654178, 0.6276472755345822], [0.6077263329442466, 0.39227366705575334], [0.002016457273072203, 0.9979835427269278], [0.9783984229957869, 0.021601577004213102], [0.9927848833738292, 0.007215116626170751], [0.9958513584066745, 0.004148641593325509], [0.9943569931282672, 0.005643006871732781], [0.12724955966035878, 0.8727504403396412], [0.9865469833687412, 0.013453016631258767], [0.00454185730820178, 0.9954581426917982], [0.698074940410877, 0.3019250595891229], [0.8482475765739775, 0.1517524234260225], [0.9954774760208013, 0.004522523979198762], [0.5998168042309325, 0.40018319576906747], [0.013612389179553652, 0.9863876108204463], [0.7604879758731657, 0.23951202412683428], [0.8382372919393001, 0.16176270806069995], [0.19587997441130123, 0.8041200255886988], [0.9875219889764961, 0.012478011023503831], [0.015044791297920024, 0.98495520870208], [0.7216563942132854, 0.2783436057867145], [0.2106959668769548, 0.7893040331230452], [0.4912355831380383, 0.5087644168619617], [0.8853820398651147, 0.11461796013488534], [0.9512749183429342, 0.048725081657065815], [0.79067013023652, 0.20932986976348006], [0.893332760357539, 0.10666723964246107], [0.9184516924421791, 0.08154830755782094], [0.9819824646602637, 0.01801753533973623], [0.00923765477828431, 0.9907623452217157], [0.9574127214767714, 0.04258727852322869], [0.017034071785818505, 0.9829659282141815], [0.9729133181716504, 0.027086681828349564], [0.014074338084264393, 0.9859256619157356], [0.8923505361930569, 0.10764946380694308], [0.8879504449937089, 0.11204955500629106], [0.9062676163216038, 0.0937323836783962], [0.755854209851361, 0.244145790148639], [0.03267327486856619, 0.9673267251314338], [0.0534294601479397, 0.9465705398520603], [0.9816870615552961, 0.018312938444703906], [0.0007886277423844179, 0.9992113722576156], [0.9328122319549161, 0.06718776804508392], [0.36641206946367955, 0.6335879305363205], [0.9792855181869249, 0.02071448181307516], [0.06046115256228035, 0.9395388474377196], [0.9093083336441952, 0.09069166635580488], [0.8750184846611442, 0.12498151533885588], [0.3344093213470518, 0.6655906786529482], [0.9840731946792769, 0.015926805320723107], [0.005265359989880203, 0.9947346400101198], [0.7381328963134691, 0.2618671036865309], [0.004707686054222893, 0.9952923139457771], [0.9583988165879317, 0.041601183412068324], [0.03987675272259228, 0.9601232472774077], [0.030804984969736382, 0.9691950150302636], [0.2957478168102535, 0.7042521831897465], [0.16757973762574485, 0.8324202623742551], [0.10796843538077838, 0.8920315646192216], [0.9731839596280037, 0.026816040371996298], [0.0064017212583677985, 0.9935982787416322], [0.015596105295630935, 0.9844038947043691], [0.0030307700563602102, 0.9969692299436398], [0.003531347229651316, 0.9964686527703487], [0.0030943789796414878, 0.9969056210203585], [0.018556005415537924, 0.9814439945844621], [0.4555107319563543, 0.5444892680436457], [0.5993781276473522, 0.4006218723526478], [0.5928033350253494, 0.4071966649746506], [0.3449008367350157, 0.6550991632649843], [0.9700544318097402, 0.029945568190259855], [0.6181349358352337, 0.3818650641647663], [0.07793879493426159, 0.9220612050657384], [0.5862766833275501, 0.4137233166724499], [0.9967179308704923, 0.0032820691295077056], [0.1389893290722466, 0.8610106709277534], [0.6489414081993181, 0.35105859180068183], [0.5895722616416289, 0.4104277383583711], [0.5623495173980955, 0.4376504826019046]]\n",
            "[['patient_id', 'heart_disease_present'], ['olalu7', 0.23832534740062644], ['z9n6mx', 0.19891796659473582], ['5k4413', 0.9868473423572057], ['mrg7q5', 0.015255234016086841], ['uki4do', 0.9936090140578756], ['kev1sk', 0.01507796572831149], ['9n6let', 0.03155939952033382], ['jxmtyg', 0.9497165381863156], ['51s2ff', 0.22399049105494992], ['wi9mcs', 0.044972394282739074], ['741h4l', 0.37901237871553517], ['1ef64a', 0.6276472755345822], ['wa2ix6', 0.39227366705575334], ['8167zl', 0.9979835427269278], ['n6nldr', 0.021601577004213102], ['ph85fp', 0.007215116626170751], ['jfan5p', 0.004148641593325509], ['7c4iz1', 0.005643006871732781], ['ukigml', 0.8727504403396412], ['flwvnq', 0.013453016631258767], ['5i4fw2', 0.9954581426917982], ['du1pqf', 0.3019250595891229], ['vs68qz', 0.1517524234260225], ['pfyez0', 0.004522523979198762], ['azvkw2', 0.40018319576906747], ['cird1i', 0.9863876108204463], ['3bg32t', 0.23951202412683428], ['xzd050', 0.16176270806069995], ['eyi8et', 0.8041200255886988], ['ce4x2h', 0.012478011023503831], ['sm91nr', 0.98495520870208], ['2il8hh', 0.2783436057867145], ['yq9cqg', 0.7893040331230452], ['520v5j', 0.5087644168619617], ['ammgu2', 0.11461796013488534], ['jix8hj', 0.048725081657065815], ['lj5zrq', 0.20932986976348006], ['16ceba', 0.10666723964246107], ['93w44s', 0.08154830755782094], ['bso17z', 0.01801753533973623], ['j2w2dc', 0.9907623452217157], ['74vwwl', 0.04258727852322869], ['0z3fob', 0.9829659282141815], ['mr7zyz', 0.027086681828349564], ['pp5n63', 0.9859256619157356], ['j0hix1', 0.10764946380694308], ['rn209i', 0.11204955500629106], ['nfit8e', 0.0937323836783962], ['nb73sy', 0.244145790148639], ['i79t3w', 0.9673267251314338], ['9nv2d9', 0.9465705398520603], ['2xbeja', 0.018312938444703906], ['lwg3wq', 0.9992113722576156], ['lrvqwb', 0.06718776804508392], ['c6mepo', 0.6335879305363205], ['6ued22', 0.02071448181307516], ['112e9h', 0.9395388474377196], ['8jc7h2', 0.09069166635580488], ['unykmj', 0.12498151533885588], ['4yeztb', 0.6655906786529482], ['tgpy9u', 0.015926805320723107], ['pf5wp6', 0.9947346400101198], ['cj8vj2', 0.2618671036865309], ['9w6d9j', 0.9952923139457771], ['3l89wd', 0.041601183412068324], ['83a6x1', 0.9601232472774077], ['oua0gr', 0.9691950150302636], ['j0hl96', 0.7042521831897465], ['dlkzyg', 0.8324202623742551], ['r0w4a8', 0.8920315646192216], ['46dlca', 0.026816040371996298], ['9fkefu', 0.9935982787416322], ['6uk6kl', 0.9844038947043691], ['c7olxr', 0.9969692299436398], ['iiyx0q', 0.9964686527703487], ['25vetx', 0.9969056210203585], ['073vc5', 0.9814439945844621], ['18abn0', 0.5444892680436457], ['v5fsfs', 0.4006218723526478], ['2ekoo7', 0.4071966649746506], ['5bbknr', 0.6550991632649843], ['hr6pjx', 0.029945568190259855], ['r4hsar', 0.3818650641647663], ['4cezdf', 0.9220612050657384], ['palhcc', 0.4137233166724499], ['bwoyg6', 0.0032820691295077056], ['j8i7ve', 0.8610106709277534], ['t2zn1n', 0.35105859180068183], ['oxf8kj', 0.4104277383583711], ['aeiv0y', 0.4376504826019046]]\n"
          ],
          "name": "stdout"
        }
      ]
    },
    {
      "cell_type": "code",
      "metadata": {
        "id": "eCESLmtBEacj",
        "colab_type": "code",
        "outputId": "372aafc6-1060-4bbb-b04d-3aa14eaa8e29",
        "colab": {
          "base_uri": "https://localhost:8080/",
          "height": 391
        }
      },
      "source": [
        "#Random Forest\n",
        "random_forest = RandomForestClassifier(n_estimators = 300, max_depth = 28, min_samples_leaf = 1)\n",
        "random_forest.fit(X_train,Y_train)\n",
        "predictions = random_forest.predict(X_test)\n",
        "prob_pred = random_forest.predict_proba(X_test)\n",
        "\n",
        "score = accuracy_score(predictions,Y_test)\n",
        "\n",
        "print(\"****HEART DISEASE PREDICTION RESULTS****\\n\")\n",
        "classification_rep = classification_report(Y_test,predictions)\n",
        "print(\"--->Overall Classification Report\\n\\n\")\n",
        "print(classification_rep)\n",
        "print(\"==========\")\n",
        "\n",
        "#print(\"Log Loss=\",str(logloss))\n",
        "print(\"Accuracy=\",str(score*100))\n",
        "\n",
        "confusion_matrix(Y_test, predictions)\n",
        "tn, fp, fn, tp = confusion_matrix(Y_test,predictions).ravel()\n",
        "print(\"Confusion Matrix (TN,FP,FN,TP)=\",tn,fp,fn,tp)\n",
        "\n",
        "precision = tp/(tp+fp) * 100\n",
        "print(\"Precision =\",precision)\n",
        "\n",
        "recall = tp/(tp+fn) * 100\n",
        "print(\"Recall =\",recall)\n",
        "\n",
        "specificity = tn/(tn+fp) * 100\n",
        "print(\"Specificity =\",specificity)\n",
        "\n",
        "f1_score = 2*precision*recall/(precision+recall)\n",
        "print(\"F1 Score =\",f1_score)\n",
        "\n",
        "\n",
        "false_positive_rate, true_positive_rate, thresholds = roc_curve(Y_test, predictions)\n",
        "roc_auc = auc(false_positive_rate, true_positive_rate)\n",
        "print(\"AUC:\",str(roc_auc))\n",
        "#print(prob_pred)"
      ],
      "execution_count": 0,
      "outputs": [
        {
          "output_type": "stream",
          "text": [
            "****HEART DISEASE PREDICTION RESULTS****\n",
            "\n",
            "--->Overall Classification Report\n",
            "\n",
            "\n",
            "              precision    recall  f1-score   support\n",
            "\n",
            "           0       0.84      0.82      0.83        33\n",
            "           1       0.68      0.72      0.70        18\n",
            "\n",
            "    accuracy                           0.78        51\n",
            "   macro avg       0.76      0.77      0.77        51\n",
            "weighted avg       0.79      0.78      0.79        51\n",
            "\n",
            "==========\n",
            "Accuracy= 78.43137254901961\n",
            "Confusion Matrix (TN,FP,FN,TP)= 27 6 5 13\n",
            "Precision = 68.42105263157895\n",
            "Recall = 72.22222222222221\n",
            "Specificity = 81.81818181818183\n",
            "F1 Score = 70.27027027027027\n",
            "AUC: 0.7702020202020202\n"
          ],
          "name": "stdout"
        }
      ]
    },
    {
      "cell_type": "code",
      "metadata": {
        "id": "Rrc-WDO_HGav",
        "colab_type": "code",
        "outputId": "5cb3d558-8bf8-4e42-b3c7-f6b62f9b017b",
        "colab": {
          "base_uri": "https://localhost:8080/",
          "height": 170
        }
      },
      "source": [
        "#Tuning The Previous Random Forest Model (estimators)\n",
        "n_estimators_val = [1, 2, 4, 8, 16, 32, 64, 100, 200]\n",
        "train_results= []\n",
        "test_results = []\n",
        "\n",
        "for estimators in n_estimators_val:\n",
        "  random_forest = RandomForestClassifier(n_estimators = estimators)\n",
        "  random_forest.fit(X_train,Y_train)\n",
        "  \n",
        "  train_predictions = random_forest.predict(X_train)\n",
        "  false_positive_rate, true_positive_rate, thresholds = roc_curve(Y_train, train_predictions)\n",
        "  roc_auc = auc(false_positive_rate, true_positive_rate)\n",
        "  train_results.append(roc_auc)\n",
        "  #print(estimators,str(roc_auc))\n",
        "  \n",
        "  test_predictions = random_forest.predict(X_test)\n",
        "  false_positive_rate, true_positive_rate, thresholds = roc_curve(Y_test, test_predictions)\n",
        "  roc_auc = auc(false_positive_rate, true_positive_rate)\n",
        "  train_results.append(roc_auc)\n",
        "  print(estimators,str(roc_auc))\n",
        "  \n",
        "#line1 = plt.plot(np.array(n_estimators_val), np.array(train_results), 'b', label='Train AUC')\n",
        "#line2 = plt.plot(np.array(n_estimators_val), np.array(test_results), 'r', label='Test AUC')\n",
        "#plt.legend(handler_map={line1: HandlerLine2D(numpoints=2)})\n",
        "#plt.ylabel('AUC score')\n",
        "#plt.xlabel('Estimator')\n",
        "#plt.show()\n",
        "\n",
        "  \n",
        "  \n",
        "  \n",
        "\n",
        "      "
      ],
      "execution_count": 0,
      "outputs": [
        {
          "output_type": "stream",
          "text": [
            "1 0.7424242424242422\n",
            "2 0.6641414141414141\n",
            "4 0.7171717171717171\n",
            "8 0.7727272727272727\n",
            "16 0.8005050505050506\n",
            "32 0.7424242424242422\n",
            "64 0.7272727272727272\n",
            "100 0.7272727272727272\n",
            "200 0.7853535353535355\n"
          ],
          "name": "stdout"
        }
      ]
    },
    {
      "cell_type": "code",
      "metadata": {
        "id": "m4zhepXFbocQ",
        "colab_type": "code",
        "outputId": "96ea663d-38b6-42a1-bc09-3929614f32d4",
        "colab": {
          "base_uri": "https://localhost:8080/",
          "height": 827
        }
      },
      "source": [
        "#Tuning The Previous Random Forest Model (depth)\n",
        "depth_vals = np.linspace(1, 32, 32, endpoint=True)\n",
        "train_results = []\n",
        "test_results = []\n",
        "for max_depth in depth_vals:\n",
        "  rf = RandomForestClassifier(max_depth=max_depth, n_jobs=-1,n_estimators = 10)\n",
        "  rf.fit(X_train, Y_train)\n",
        "  \n",
        "  train_pred = rf.predict(X_train)\n",
        "  false_positive_rate, true_positive_rate, thresholds = roc_curve(Y_train, train_pred)\n",
        "  roc_auc = auc(false_positive_rate, true_positive_rate)\n",
        "  train_results.append(roc_auc)\n",
        "  \n",
        "  \n",
        "  y_pred = rf.predict(X_test)\n",
        "  false_positive_rate, true_positive_rate, thresholds = roc_curve(Y_test, y_pred)\n",
        "  roc_auc = auc(false_positive_rate, true_positive_rate)\n",
        "  test_results.append(roc_auc)\n",
        "  print(max_depth,str(roc_auc))\n",
        "  \n",
        "\n",
        "\n",
        "  \n",
        "line1, = plt.plot(depth_vals, train_results, 'b', label='Train AUC')\n",
        "line2, = plt.plot(depth_vals, test_results, 'r', label='Test AUC')\n",
        "plt.legend(handler_map={line1: HandlerLine2D(numpoints=2)})\n",
        "plt.ylabel('AUC score')\n",
        "plt.xlabel('Tree depth')\n",
        "plt.show()\n"
      ],
      "execution_count": 0,
      "outputs": [
        {
          "output_type": "stream",
          "text": [
            "1.0 0.7323232323232324\n",
            "2.0 0.8282828282828283\n",
            "3.0 0.73989898989899\n",
            "4.0 0.8005050505050506\n",
            "5.0 0.7727272727272727\n",
            "6.0 0.7878787878787877\n",
            "7.0 0.6691919191919192\n",
            "8.0 0.7727272727272727\n",
            "9.0 0.6136363636363635\n",
            "10.0 0.7424242424242422\n",
            "11.0 0.7297979797979798\n",
            "12.0 0.7424242424242422\n",
            "13.0 0.7146464646464646\n",
            "14.0 0.702020202020202\n",
            "15.0 0.7727272727272727\n",
            "16.0 0.7575757575757576\n",
            "17.0 0.7575757575757576\n",
            "18.0 0.7272727272727272\n",
            "19.0 0.712121212121212\n",
            "20.0 0.7474747474747475\n",
            "21.0 0.744949494949495\n",
            "22.0 0.7727272727272727\n",
            "23.0 0.7474747474747475\n",
            "24.0 0.696969696969697\n",
            "25.0 0.7727272727272727\n",
            "26.0 0.73989898989899\n",
            "27.0 0.7575757575757576\n",
            "28.0 0.7424242424242422\n",
            "29.0 0.845959595959596\n",
            "30.0 0.7601010101010102\n",
            "31.0 0.7146464646464646\n",
            "32.0 0.7727272727272727\n"
          ],
          "name": "stdout"
        },
        {
          "output_type": "display_data",
          "data": {
            "image/png": "[encoded data removed]",
            "text/plain": [
              "<Figure size 432x288 with 1 Axes>"
            ]
          },
          "metadata": {
            "tags": []
          }
        }
      ]
    },
    {
      "cell_type": "code",
      "metadata": {
        "id": "VzFU8dLzk4zh",
        "colab_type": "code",
        "outputId": "57d704b1-dd6c-427f-bcd8-118e80e5b690",
        "colab": {
          "base_uri": "https://localhost:8080/",
          "height": 391
        }
      },
      "source": [
        "#SGD Classifier\n",
        "sgd_classifier = linear_model.SGDClassifier(max_iter=1000, tol=1e-3, shuffle=True)\n",
        "sgd_classifier.fit(X_train, Y_train)\n",
        "predictions = sgd_classifier.predict(X_test)\n",
        "\n",
        "score = accuracy_score(Y_test,predictions)\n",
        "print(score*100)\n",
        "\n",
        "print(\"****HEART DISEASE PREDICTION RESULTS****\\n\")\n",
        "classification_rep = classification_report(Y_test,predictions)\n",
        "print(\"--->Overall Classification Report\\n\\n\")\n",
        "print(classification_rep)\n",
        "print(\"==========\")\n",
        "\n",
        "#print(\"Log Loss=\",str(logloss))\n",
        "print(\"Accuracy=\",str(score*100))\n",
        "\n",
        "confusion_matrix(Y_test, predictions)\n",
        "tn, fp, fn, tp = confusion_matrix(Y_test,predictions).ravel()\n",
        "print(\"Confusion Matrix (TN,FP,FN,TP)=\",tn,fp,fn,tp)\n",
        "\n",
        "precision = tp/(tp+fp) * 100\n",
        "print(\"Precision =\",precision)\n",
        "\n",
        "recall = tp/(tp+fn) * 100\n",
        "print(\"Recall =\",recall)\n",
        "\n",
        "specificity = tn/(tn+fp) * 100\n",
        "print(\"Specificity =\",specificity)\n",
        "\n",
        "f1_score = 2*precision*recall/(precision+recall)\n",
        "print(\"F1 Score =\",f1_score)\n"
      ],
      "execution_count": 0,
      "outputs": [
        {
          "output_type": "stream",
          "text": [
            "70.58823529411765\n",
            "****HEART DISEASE PREDICTION RESULTS****\n",
            "\n",
            "--->Overall Classification Report\n",
            "\n",
            "\n",
            "              precision    recall  f1-score   support\n",
            "\n",
            "           0       0.91      0.61      0.73        33\n",
            "           1       0.55      0.89      0.68        18\n",
            "\n",
            "    accuracy                           0.71        51\n",
            "   macro avg       0.73      0.75      0.70        51\n",
            "weighted avg       0.78      0.71      0.71        51\n",
            "\n",
            "==========\n",
            "Accuracy= 70.58823529411765\n",
            "Confusion Matrix (TN,FP,FN,TP)= 20 13 2 16\n",
            "Precision = 55.172413793103445\n",
            "Recall = 88.88888888888889\n",
            "Specificity = 60.60606060606061\n",
            "F1 Score = 68.08510638297871\n"
          ],
          "name": "stdout"
        }
      ]
    }
  ]
}